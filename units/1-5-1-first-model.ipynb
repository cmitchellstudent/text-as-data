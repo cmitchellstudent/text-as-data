{
 "cells": [
  {
   "cell_type": "markdown",
   "metadata": {
    "editable": true,
    "slideshow": {
     "slide_type": "slide"
    },
    "tags": []
   },
   "source": [
    "# 1-5-1 Our First Models"
   ]
  },
  {
   "cell_type": "markdown",
   "metadata": {},
   "source": [
    "## Our First Model"
   ]
  },
  {
   "cell_type": "code",
   "execution_count": null,
   "metadata": {
    "editable": true,
    "slideshow": {
     "slide_type": "fragment"
    },
    "tags": []
   },
   "outputs": [],
   "source": [
    "# IMPORTS\n",
    "import pandas as pd\n",
    "import matplotlib.pyplot as plt\n",
    "import numpy as np\n",
    "\n",
    "# Set parameters to improve graphic outputs\n",
    "plt.rcParams['figure.dpi'] = 300\n",
    "plt.rcParams[\"figure.figsize\"] = (10,5)"
   ]
  },
  {
   "cell_type": "code",
   "execution_count": null,
   "metadata": {},
   "outputs": [],
   "source": [
    "# Read our csv into a pandas dataframe\n",
    "df = pd.read_csv(\"../data/texts1.csv\")\n",
    "\n",
    "# Check our results\n",
    "# df.shape, df.head(), print(df)\n",
    "print(df.shape, df.columns.tolist())"
   ]
  },
  {
   "cell_type": "code",
   "execution_count": null,
   "metadata": {},
   "outputs": [],
   "source": [
    "# Create our lists\n",
    "labels = df.text.tolist()\n",
    "x = df['length'].tolist()\n",
    "y = df.lexdiv.tolist()"
   ]
  },
  {
   "cell_type": "code",
   "execution_count": null,
   "metadata": {},
   "outputs": [],
   "source": [
    "# Quick graph to remind ourselves\n",
    "plt.scatter(x, y)"
   ]
  },
  {
   "cell_type": "code",
   "execution_count": null,
   "metadata": {},
   "outputs": [],
   "source": [
    "# Remember your old friend (or nemesis) y = mx + b?\n",
    "m, b = np.polyfit(x, y, 1)\n",
    "print(f\"The line has a slope of {m:.7f} and a y-intercept of {b:.3f}.\")"
   ]
  },
  {
   "cell_type": "code",
   "execution_count": null,
   "metadata": {},
   "outputs": [],
   "source": [
    "# Get m,b as array\n",
    "coef = np.polyfit(x, y, 1)\n",
    "\n",
    "# Create function\n",
    "poly1d_fn = np.poly1d(coef) \n",
    "\n",
    "# Create plot\n",
    "# Because labeling is borked in mpl\n",
    "for i, label in enumerate(labels):\n",
    "    plt.annotate(label, (x[i], y[i]))\n",
    "# '--k'=black dashed line, 'yo' = yellow circle marker\n",
    "plt.plot(x,y, 'yo', x, poly1d_fn(x), '--k') \n",
    "\n",
    "# And show it\n",
    "plt.show()"
   ]
  },
  {
   "cell_type": "code",
   "execution_count": null,
   "metadata": {},
   "outputs": [],
   "source": [
    "# To get a detailed breakdown you can use statsmodels\n",
    "# OLS = Ordinary Least Squares\n",
    "import statsmodels.api as sm\n",
    "\n",
    "model = sm.OLS(y, sm.add_constant(x))\n",
    "results = model.fit()\n",
    "\n",
    "print(results.summary())"
   ]
  },
  {
   "cell_type": "markdown",
   "metadata": {},
   "source": [
    "<div class=\"alert alert-block alert-warning\">\n",
    "<b>Your turn:</b> Below is a new text. Do what you need to do to get its length and then use the function above, <b>poly1d_fn</b>, to test the model's projection of its lexical diversity. How accurate is the model as a percentage of the actual <b>lexdiv</b> score?\n",
    "</div>"
   ]
  },
  {
   "cell_type": "markdown",
   "metadata": {},
   "source": [
    "### One Way to Do It"
   ]
  },
  {
   "cell_type": "code",
   "execution_count": null,
   "metadata": {},
   "outputs": [],
   "source": [
    "import re\n",
    "\n",
    "test_file = open('../data/mdg.txt', 'r').read()\n",
    "test_words = re.sub(\"[^a-zA-Z']\",\" \", test_file).lower().split()\n",
    "print(len(test_words))\n"
   ]
  },
  {
   "cell_type": "code",
   "execution_count": null,
   "metadata": {},
   "outputs": [],
   "source": [
    "# Let's project the lexical diversity of our test case\n",
    "projection = poly1d_fn(len(test_words))\n",
    "print(projection)"
   ]
  },
  {
   "cell_type": "code",
   "execution_count": null,
   "metadata": {},
   "outputs": [],
   "source": [
    "def lex_div (text):\n",
    "    lexdiv =len(set(text)) / len(text)\n",
    "    return lexdiv\n",
    "\n",
    "test_true_LD = lex_div(test_words)\n",
    "print(test_true_LD)"
   ]
  },
  {
   "cell_type": "code",
   "execution_count": null,
   "metadata": {},
   "outputs": [],
   "source": [
    "print(test_true_LD / projection)"
   ]
  }
 ],
 "metadata": {
  "kernelspec": {
   "display_name": "Python 3 (ipykernel)",
   "language": "python",
   "name": "python3"
  },
  "language_info": {
   "codemirror_mode": {
    "name": "ipython",
    "version": 3
   },
   "file_extension": ".py",
   "mimetype": "text/x-python",
   "name": "python",
   "nbconvert_exporter": "python",
   "pygments_lexer": "ipython3",
   "version": "3.11.7"
  }
 },
 "nbformat": 4,
 "nbformat_minor": 4
}
