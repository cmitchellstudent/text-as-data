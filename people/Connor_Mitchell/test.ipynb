{
 "cells": [
  {
   "cell_type": "code",
   "outputs": [
    {
     "name": "stdout",
     "output_type": "stream",
     "text": [
      "hello world\n"
     ]
    }
   ],
   "source": [
    "print(\"hello world\")"
   ],
   "metadata": {
    "collapsed": false,
    "ExecuteTime": {
     "end_time": "2024-02-05T20:29:50.209139200Z",
     "start_time": "2024-02-05T20:29:50.202427700Z"
    }
   },
   "id": "4b4709f95b00be8e",
   "execution_count": 1
  },
  {
   "cell_type": "code",
   "outputs": [],
   "source": [
    "# Imports\n",
    "import re\n",
    "import nltk\n",
    "\n",
    "def diversity_and_length(path, title):\n",
    "    text_string =open(path, 'r', encoding=\"utf8\").read()\n",
    "    words = re.sub(\"[^a-zA-Z'’]\",\" \", text_string).lower().split()\n",
    "    lexdiv = len(set(words)) / len(words)\n",
    "    print(title + \": \")\n",
    "    print(\"length \" + str(words.__len__()))\n",
    "    print(\"lexdiv \" + str(lexdiv))\n",
    "    print(\"\\n\")\n",
    "    return\n",
    "\n"
   ],
   "metadata": {
    "collapsed": false,
    "ExecuteTime": {
     "end_time": "2024-02-06T16:57:55.630603400Z",
     "start_time": "2024-02-06T16:57:55.259534Z"
    }
   },
   "id": "54dd417e54179a5b",
   "execution_count": 1
  },
  {
   "cell_type": "code",
   "outputs": [
    {
     "name": "stdout",
     "output_type": "stream",
     "text": [
      "MDG: \n",
      "length 8017\n",
      "lexdiv 0.24285892478483223\n",
      "\n",
      "\n",
      "HOD: \n",
      "length 39208\n",
      "lexdiv 0.14303203427871863\n",
      "\n",
      "\n",
      "Hamlet: \n",
      "length 32166\n",
      "lexdiv 0.14907044705589753\n",
      "\n",
      "\n",
      "Random movie review: \n",
      "length 1204\n",
      "lexdiv 0.40863787375415284\n",
      "\n",
      "\n",
      "1984: \n",
      "length 105299\n",
      "lexdiv 0.08741773426148397\n",
      "\n",
      "\n",
      "Walt Whitman Leaves of Grass: \n",
      "length 124048\n",
      "lexdiv 0.10412904682058557\n"
     ]
    }
   ],
   "source": [
    "diversity_and_length(\"C:\\\\Users\\Connor\\Desktop\\\\text-as-data\\data\\mdg.txt\", \"MDG\")\n",
    "diversity_and_length(\"C:\\\\Users\\Connor\\Desktop\\\\text-as-data\\data\\hod.txt\", \"HOD\")\n",
    "diversity_and_length(\"C:\\\\Users\\Connor\\Desktop\\\\text-as-data\\data\\hamlet.txt\", \"Hamlet\")\n",
    "diversity_and_length(\"C:\\\\Users\\Connor\\Desktop\\\\text-as-data\\people\\Connor_Mitchell\\\\movie_review.txt\", \"Random movie review\")\n",
    "diversity_and_length(\"C:\\\\Users\\Connor\\Desktop\\\\text-as-data\\people\\Connor_Mitchell\\\\1984.txt\", \"1984\")\n",
    "diversity_and_length(\"C:\\\\Users\\Connor\\Desktop\\\\text-as-data\\people\\Connor_Mitchell\\\\LeavesOfGrassWhitman.txt\", \"Walt Whitman Leaves of Grass\")"
   ],
   "metadata": {
    "collapsed": false,
    "ExecuteTime": {
     "end_time": "2024-02-06T16:57:55.777251100Z",
     "start_time": "2024-02-06T16:57:55.632606400Z"
    }
   },
   "id": "4c3c4d3483f9c4cc",
   "execution_count": 2
  },
  {
   "cell_type": "code",
   "outputs": [],
   "source": [],
   "metadata": {
    "collapsed": false,
    "ExecuteTime": {
     "end_time": "2024-02-05T20:49:44.515865400Z",
     "start_time": "2024-02-05T20:49:44.511861Z"
    }
   },
   "id": "cc068cf2ee0c9bc1",
   "execution_count": 17
  },
  {
   "cell_type": "code",
   "outputs": [],
   "source": [],
   "metadata": {
    "collapsed": false
   },
   "id": "4f24400c07a54e12"
  }
 ],
 "metadata": {
  "kernelspec": {
   "display_name": "Python 3",
   "language": "python",
   "name": "python3"
  },
  "language_info": {
   "codemirror_mode": {
    "name": "ipython",
    "version": 2
   },
   "file_extension": ".py",
   "mimetype": "text/x-python",
   "name": "python",
   "nbconvert_exporter": "python",
   "pygments_lexer": "ipython2",
   "version": "2.7.6"
  }
 },
 "nbformat": 4,
 "nbformat_minor": 5
}
