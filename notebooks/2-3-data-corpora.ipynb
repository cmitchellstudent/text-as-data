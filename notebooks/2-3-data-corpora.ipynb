{
 "cells": [
  {
   "cell_type": "markdown",
   "metadata": {},
   "source": [
    "# Extant Corpora"
   ]
  },
  {
   "cell_type": "markdown",
   "metadata": {},
   "source": [
    "This notebook is strictly about available corpora. It is not a comprehensive list by any stretch of the imagination, but rather a suggestive one. If you remain unsure about assembling a collection of texts, you should explore available collections and/or see if someone has already assembled a collection along the same or similar dimensions."
   ]
  },
  {
   "cell_type": "markdown",
   "metadata": {},
   "source": [
    "After the Federalist Papers, which received a lot of attention early on in the NLP / computational approaches to discourse / text analytics revolution, the annual State of the Union addresses have received a lot of attention. There's even a [web site](https://stateoftheunion.onetwothree.net) that has long engaged in browsable text analytics. More importantly, they have a [page](https://stateoftheunion.onetwothree.net/texts/index.html) which lists all the addresses they have, which could be scraped and then the URLs used to download the addresses. "
   ]
  },
  {
   "cell_type": "markdown",
   "metadata": {},
   "source": [
    "If U.S. presidential discourse interests you, UC-Santa Barbara hosts [The American Presidency Project](https://www.presidency.ucsb.edu), which has fewer SOTU addresses but a host of other genres: executive orders, interviews, memoranda, proclamations, and more. Searching for SOTU, turns up this [results page](https://www.presidency.ucsb.edu/documents/app-categories/spoken-addresses-and-remarks/presidential/state-the-union-addresses) which lists the genres and the numbers. E.g., 9000 executive orders and 9275 proclamations!"
   ]
  },
  {
   "cell_type": "markdown",
   "metadata": {},
   "source": [
    "Kaggle hosts a lot of [data sets](https://www.kaggle.com/datasets/) that are focused on texts, from short texts like [news headlines](https://www.kaggle.com/datasets/therohk/million-headlines) taken from 19 years of the Australian Broadcasting Company to [LinkedIn job postings](https://www.kaggle.com/datasets/sindhumadhurii/linkedin-job-posts-insights-dataset) to [\"Famous Data Science & Knowledge Channels Comments\"](https://www.kaggle.com/datasets/bwandowando/datascience-and-knowledge-channels-youtube-comments). (I just glimpsed that last one.)"
   ]
  },
  {
   "cell_type": "markdown",
   "metadata": {},
   "source": [
    "Harvard's [Dataverse](https://dataverse.harvard.edu) is more difficult to navigate, but it could have data that interests you, like this [collection of social media data sets](https://dataverse.harvard.edu/dataverse/pkz-socmedia) or this [data set](https://dataverse.harvard.edu/dataset.xhtml?persistentId=doi:10.7910/DVN/FK03A6) which was built to construct word embeddings as part of an investigation of homonationalism among the Low Countries (Netherlands, Belgium, Luxembourg)."
   ]
  },
  {
   "cell_type": "markdown",
   "metadata": {},
   "source": [
    "In brief, there is also:\n",
    "\n",
    "- [Reuters Newswire Topic Classification](http://kdd.ics.uci.edu/databases/reuters21578/reuters21578.html) (Reuters-21578). A collection of news documents that appeared on Reuters in 1987 indexed by categories. [Also see RCV1, RCV2 and TRC2](http://trec.nist.gov/data/reuters/reuters.html).\n",
    "- [IMDB Movie Review Sentiment Classification](http://ai.stanford.edu/~amaas/data/sentiment/) (stanford). A collection of movie reviews from the website imdb.com and their positive or negative sentiment.\n",
    "- [News Group Movie Review Sentiment Classification](https://raw.githubusercontent.com/jbrownlee/Datasets/master/review_polarity.tar.gz) (cornell). A collection of movie reviews from the website imdb.com and their positive or negative sentiment."
   ]
  },
  {
   "cell_type": "markdown",
   "metadata": {},
   "source": [
    "Finally, there are a lot of text collections out there: here is a list of [45 places you can download tens of thousands books, plays and other literary texts](https://nothingintherulebook.com/2017/01/10/55-places-you-can-download-tens-of-thousands-books-plays-and-other-literary-texts-completely-legally-for-free/) completely and legally for free."
   ]
  }
 ],
 "metadata": {
  "celltoolbar": "Slideshow",
  "kernelspec": {
   "display_name": "Python 3 (ipykernel)",
   "language": "python",
   "name": "python3"
  },
  "language_info": {
   "codemirror_mode": {
    "name": "ipython",
    "version": 3
   },
   "file_extension": ".py",
   "mimetype": "text/x-python",
   "name": "python",
   "nbconvert_exporter": "python",
   "pygments_lexer": "ipython3",
   "version": "3.11.7"
  }
 },
 "nbformat": 4,
 "nbformat_minor": 4
}
